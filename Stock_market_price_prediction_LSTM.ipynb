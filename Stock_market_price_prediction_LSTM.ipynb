{
  "nbformat": 4,
  "nbformat_minor": 0,
  "metadata": {
    "colab": {
      "provenance": [],
      "authorship_tag": "ABX9TyP2PpFMQSTuxgnulj/jQtkK",
      "include_colab_link": true
    },
    "kernelspec": {
      "name": "python3",
      "display_name": "Python 3"
    },
    "language_info": {
      "name": "python"
    }
  },
  "cells": [
    {
      "cell_type": "markdown",
      "metadata": {
        "id": "view-in-github",
        "colab_type": "text"
      },
      "source": [
        "<a href=\"https://colab.research.google.com/github/Nayasha24/Admission-management-system/blob/main/Stock_market_price_prediction_LSTM.ipynb\" target=\"_parent\"><img src=\"https://colab.research.google.com/assets/colab-badge.svg\" alt=\"Open In Colab\"/></a>"
      ]
    },
    {
      "cell_type": "code",
      "source": [
        "!pip install kaggle"
      ],
      "metadata": {
        "colab": {
          "base_uri": "https://localhost:8080/"
        },
        "id": "Pry51UtQh4Gw",
        "outputId": "4f8ea7ce-0ca8-4c50-d6d9-cccd8a46a8f4"
      },
      "execution_count": null,
      "outputs": [
        {
          "output_type": "stream",
          "name": "stdout",
          "text": [
            "Requirement already satisfied: kaggle in /usr/local/lib/python3.10/dist-packages (1.5.16)\n",
            "Requirement already satisfied: six>=1.10 in /usr/local/lib/python3.10/dist-packages (from kaggle) (1.16.0)\n",
            "Requirement already satisfied: certifi in /usr/local/lib/python3.10/dist-packages (from kaggle) (2023.7.22)\n",
            "Requirement already satisfied: python-dateutil in /usr/local/lib/python3.10/dist-packages (from kaggle) (2.8.2)\n",
            "Requirement already satisfied: requests in /usr/local/lib/python3.10/dist-packages (from kaggle) (2.31.0)\n",
            "Requirement already satisfied: tqdm in /usr/local/lib/python3.10/dist-packages (from kaggle) (4.66.1)\n",
            "Requirement already satisfied: python-slugify in /usr/local/lib/python3.10/dist-packages (from kaggle) (8.0.1)\n",
            "Requirement already satisfied: urllib3 in /usr/local/lib/python3.10/dist-packages (from kaggle) (2.0.7)\n",
            "Requirement already satisfied: bleach in /usr/local/lib/python3.10/dist-packages (from kaggle) (6.1.0)\n",
            "Requirement already satisfied: webencodings in /usr/local/lib/python3.10/dist-packages (from bleach->kaggle) (0.5.1)\n",
            "Requirement already satisfied: text-unidecode>=1.3 in /usr/local/lib/python3.10/dist-packages (from python-slugify->kaggle) (1.3)\n",
            "Requirement already satisfied: charset-normalizer<4,>=2 in /usr/local/lib/python3.10/dist-packages (from requests->kaggle) (3.3.2)\n",
            "Requirement already satisfied: idna<4,>=2.5 in /usr/local/lib/python3.10/dist-packages (from requests->kaggle) (3.4)\n"
          ]
        }
      ]
    },
    {
      "cell_type": "code",
      "source": [
        "from google.colab import drive\n",
        "drive.mount('/content/gdrive')"
      ],
      "metadata": {
        "colab": {
          "base_uri": "https://localhost:8080/"
        },
        "id": "J-oPDobQiJhC",
        "outputId": "bc63102d-6251-4582-e9e3-81662cf297a1"
      },
      "execution_count": null,
      "outputs": [
        {
          "output_type": "stream",
          "name": "stdout",
          "text": [
            "Mounted at /content/gdrive\n"
          ]
        }
      ]
    },
    {
      "cell_type": "code",
      "execution_count": 6,
      "metadata": {
        "id": "O4-xe_T4eK5e"
      },
      "outputs": [],
      "source": [
        "!mkdir -p ~/.kaggle\n",
        "!cp kaggle.json ~/.kaggle/"
      ]
    },
    {
      "cell_type": "code",
      "source": [
        "!kaggle datasets download -d tarunpaparaju/apple-aapl-historical-stock-data"
      ],
      "metadata": {
        "colab": {
          "base_uri": "https://localhost:8080/"
        },
        "id": "bJckdEKHefmQ",
        "outputId": "66b47762-f3a3-44e9-8c3c-ff956a0d1267"
      },
      "execution_count": 7,
      "outputs": [
        {
          "output_type": "stream",
          "name": "stdout",
          "text": [
            "Warning: Your Kaggle API key is readable by other users on this system! To fix this, you can run 'chmod 600 /root/.kaggle/kaggle.json'\n",
            "Downloading apple-aapl-historical-stock-data.zip to /content\n",
            "  0% 0.00/49.5k [00:00<?, ?B/s]\n",
            "100% 49.5k/49.5k [00:00<00:00, 1.34MB/s]\n"
          ]
        }
      ]
    },
    {
      "cell_type": "code",
      "source": [
        "import zipfile\n",
        "zip_ref = zipfile.ZipFile('/content/apple-aapl-historical-stock-data.zip','r')\n",
        "zip_ref.extractall('/content')\n",
        "zip_ref.close()"
      ],
      "metadata": {
        "id": "7Dxs7lz-jN9Z"
      },
      "execution_count": 8,
      "outputs": []
    },
    {
      "cell_type": "code",
      "source": [
        "import numpy as np\n",
        "import pandas as pd\n",
        "from sklearn.preprocessing import MinMaxScaler\n",
        "import tensorflow as tf\n",
        "from tensorflow import keras\n",
        "from keras import Sequential\n",
        "from keras.layers import Dense, LSTM"
      ],
      "metadata": {
        "id": "FiRJi5HAnwnO"
      },
      "execution_count": 9,
      "outputs": []
    },
    {
      "cell_type": "code",
      "source": [
        "data=pd.read_csv('HistoricalQuotes.csv')\n",
        "data[' Close/Last']=data[' Close/Last'].str.replace('$','').str.replace(' ','').astype(float)\n",
        "prices = data[' Close/Last'].values.reshape(-1,1)\n"
      ],
      "metadata": {
        "id": "YBfSYZwv580M",
        "colab": {
          "base_uri": "https://localhost:8080/"
        },
        "outputId": "63301f94-950c-4914-b351-c43ea2830a2a"
      },
      "execution_count": 10,
      "outputs": [
        {
          "output_type": "stream",
          "name": "stderr",
          "text": [
            "<ipython-input-10-645e57481cb5>:2: FutureWarning: The default value of regex will change from True to False in a future version. In addition, single character regular expressions will *not* be treated as literal strings when regex=True.\n",
            "  data[' Close/Last']=data[' Close/Last'].str.replace('$','').str.replace(' ','').astype(float)\n"
          ]
        }
      ]
    },
    {
      "cell_type": "code",
      "source": [
        "prices"
      ],
      "metadata": {
        "id": "ROyTWl2q7tB8",
        "colab": {
          "base_uri": "https://localhost:8080/"
        },
        "outputId": "d85c7bc5-3d88-4676-c8a3-eefee52881c7"
      },
      "execution_count": 11,
      "outputs": [
        {
          "output_type": "execute_result",
          "data": {
            "text/plain": [
              "array([[273.36  ],\n",
              "       [273.52  ],\n",
              "       [292.65  ],\n",
              "       ...,\n",
              "       [ 29.9043],\n",
              "       [ 29.8357],\n",
              "       [ 29.8557]])"
            ]
          },
          "metadata": {},
          "execution_count": 11
        }
      ]
    },
    {
      "cell_type": "code",
      "source": [
        "scaler = MinMaxScaler(feature_range=(0,1))\n",
        "scaled_prices = scaler.fit_transform(prices)"
      ],
      "metadata": {
        "id": "qpY4wbaG7bwl"
      },
      "execution_count": 12,
      "outputs": []
    },
    {
      "cell_type": "code",
      "source": [
        "def create_sequences(data, sequence_length):\n",
        "  x,y=[],[]\n",
        "  for i in range(len(data)-sequence_length):\n",
        "    x.append(data[i:(i+sequence_length),0])\n",
        "    y.append(data[i+sequence_length,0])\n",
        "  return np.array(x), np.array(y)"
      ],
      "metadata": {
        "id": "Vs0pVPxam63q"
      },
      "execution_count": 13,
      "outputs": []
    },
    {
      "cell_type": "code",
      "source": [
        "sequence_length = 10\n",
        "x,y=create_sequences(scaled_prices,sequence_length)"
      ],
      "metadata": {
        "id": "f5V_mJNDnawQ"
      },
      "execution_count": 16,
      "outputs": []
    },
    {
      "cell_type": "code",
      "source": [
        "x = np.reshape(x, (x.shape[0],x.shape[1],1))"
      ],
      "metadata": {
        "id": "Gvghzp4_oxWp"
      },
      "execution_count": 17,
      "outputs": []
    },
    {
      "cell_type": "code",
      "source": [
        "model = Sequential()\n",
        "model.add(LSTM(units=50, return_sequences=True, input_shape=(x.shape[1],1)))\n",
        "model.add(LSTM(units=50))\n",
        "model.add(Dense(units=1))\n",
        "\n",
        "model.compile(optimizer='adam', loss='mean_squared_error')"
      ],
      "metadata": {
        "id": "ylvdTc5ao57d"
      },
      "execution_count": 18,
      "outputs": []
    },
    {
      "cell_type": "code",
      "source": [
        "epochs=10\n",
        "batch_size=32\n",
        "model.fit(x,y,epochs=epochs,batch_size=batch_size)"
      ],
      "metadata": {
        "colab": {
          "base_uri": "https://localhost:8080/"
        },
        "id": "fKb5Z0bJpXH9",
        "outputId": "afb1fd7f-f4e2-40f2-8f0c-0ce88fc36852"
      },
      "execution_count": 21,
      "outputs": [
        {
          "output_type": "stream",
          "name": "stdout",
          "text": [
            "Epoch 1/10\n",
            "79/79 [==============================] - 6s 12ms/step - loss: 0.0082\n",
            "Epoch 2/10\n",
            "79/79 [==============================] - 1s 12ms/step - loss: 2.0838e-04\n",
            "Epoch 3/10\n",
            "79/79 [==============================] - 1s 12ms/step - loss: 1.9955e-04\n",
            "Epoch 4/10\n",
            "79/79 [==============================] - 1s 12ms/step - loss: 2.1245e-04\n",
            "Epoch 5/10\n",
            "79/79 [==============================] - 1s 12ms/step - loss: 2.0079e-04\n",
            "Epoch 6/10\n",
            "79/79 [==============================] - 1s 12ms/step - loss: 2.0651e-04\n",
            "Epoch 7/10\n",
            "79/79 [==============================] - 1s 12ms/step - loss: 1.9576e-04\n",
            "Epoch 8/10\n",
            "79/79 [==============================] - 1s 12ms/step - loss: 1.9242e-04\n",
            "Epoch 9/10\n",
            "79/79 [==============================] - 1s 18ms/step - loss: 1.9256e-04\n",
            "Epoch 10/10\n",
            "79/79 [==============================] - 2s 20ms/step - loss: 1.9766e-04\n"
          ]
        },
        {
          "output_type": "execute_result",
          "data": {
            "text/plain": [
              "<keras.src.callbacks.History at 0x79bcca32aaa0>"
            ]
          },
          "metadata": {},
          "execution_count": 21
        }
      ]
    }
  ]
}